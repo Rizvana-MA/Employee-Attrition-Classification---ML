{
 "cells": [
  {
   "cell_type": "markdown",
   "metadata": {},
   "source": [
    "## INTRODUCTION"
   ]
  },
  {
   "cell_type": "markdown",
   "metadata": {},
   "source": [
    "The goal of this project is to develop a predictive model to identify employees who are likely to leave a company based on their demographic and employment data. Employee attrition is a critical issue for businesses as it impacts organizational stability, productivity, and recruitment costs. By predicting employee attrition in advance, companies can take proactive measures to retain valuable talent.\n",
    "\n",
    "This project utilizes various machine learning techniques, including decision trees, random forests, k-nearest neighbors, support vector machines, naive Bayes, and XGBoost to build models that predict employee attrition. Each model is tuned using hyperparameter optimization (GridSearchCV) to maximize performance.\n",
    "\n",
    "## Key Objectives\n",
    "1. **Data Preprocessing**: Handling missing values, encoding categorical features, and scaling numerical features.\n",
    "2. **Exploratory Data Analysis (EDA)**: Understanding the relationships between different features, visualizing distributions, and identifying correlations.\n",
    "3. **Model Training and Evaluation**: Using multiple classification models to train and evaluate the prediction of employee attrition, including:\n",
    "   - Decision Tree Classifier\n",
    "   - Random Forest Classifier\n",
    "   - K-Nearest Neighbors Classifier\n",
    "   - Support Vector Classifier (SVC)\n",
    "   - Gaussian Naive-Bayes Classifier\n",
    "   - XGBoost Classifier\n",
    "4. **Hyperparameter Tuning**: Utilizing GridSearchCV to optimize the model's hyperparameters for better accuracy.\n",
    "5. **Model Comparison**: Evaluating the models based on their accuracy, mean absolute error (MAE), and root mean squared error (RMSE) to determine the most effective model for predicting employee attrition.\n",
    "\n",
    "## Dataset\n",
    "\n",
    "The dataset contains information about employees, including attributes such as:\n",
    "- Demographic information (e.g., gender, age, marital status)\n",
    "- Job-related details (e.g., job role, job satisfaction, performance rating, overtime)\n",
    "- Company-specific information (e.g., company tenure, education level, job level, company size)\n"
   ]
  },
  {
   "cell_type": "markdown",
   "metadata": {},
   "source": [
    "## IMPORTING LIBRARIES"
   ]
  },
  {
   "cell_type": "markdown",
   "metadata": {},
   "source": [
    "This block imports necessary libraries for data manipulation (`pandas`, `numpy`), visualization (`matplotlib`, `seaborn`), machine learning models (`RandomForest`, `DecisionTree`, `NaiveBayes`, `KNeighbors`, `SVC`), preprocessing (`LabelEncoder`, `StandardScaler`), and model evaluation (`metrics`, `train_test_split`, `GridSearchCV`).\n"
   ]
  },
  {
   "cell_type": "code",
   "execution_count": 143,
   "metadata": {},
   "outputs": [],
   "source": [
    "import pandas as pd\n",
    "import matplotlib.pyplot as plt\n",
    "import seaborn as sns\n",
    "import numpy as np\n",
    "from sklearn.preprocessing import LabelEncoder,StandardScaler\n",
    "from sklearn.model_selection import train_test_split\n",
    "from sklearn import metrics\n",
    "from sklearn.ensemble import RandomForestClassifier\n",
    "from sklearn.tree import DecisionTreeClassifier\n",
    "from sklearn.naive_bayes import GaussianNB\n",
    "from sklearn.neighbors import KNeighborsClassifier\n",
    "from sklearn.svm import SVC\n",
    "from sklearn.model_selection import GridSearchCV"
   ]
  },
  {
   "cell_type": "markdown",
   "metadata": {},
   "source": [
    "## READING AND UNDERSTANDING"
   ]
  },
  {
   "cell_type": "code",
   "execution_count": 144,
   "metadata": {},
   "outputs": [
    {
     "data": {
      "text/html": [
       "<div>\n",
       "<style scoped>\n",
       "    .dataframe tbody tr th:only-of-type {\n",
       "        vertical-align: middle;\n",
       "    }\n",
       "\n",
       "    .dataframe tbody tr th {\n",
       "        vertical-align: top;\n",
       "    }\n",
       "\n",
       "    .dataframe thead th {\n",
       "        text-align: right;\n",
       "    }\n",
       "</style>\n",
       "<table border=\"1\" class=\"dataframe\">\n",
       "  <thead>\n",
       "    <tr style=\"text-align: right;\">\n",
       "      <th></th>\n",
       "      <th>Employee ID</th>\n",
       "      <th>Age</th>\n",
       "      <th>Gender</th>\n",
       "      <th>Years at Company</th>\n",
       "      <th>Job Role</th>\n",
       "      <th>Monthly Income</th>\n",
       "      <th>Work-Life Balance</th>\n",
       "      <th>Job Satisfaction</th>\n",
       "      <th>Performance Rating</th>\n",
       "      <th>Number of Promotions</th>\n",
       "      <th>...</th>\n",
       "      <th>Number of Dependents</th>\n",
       "      <th>Job Level</th>\n",
       "      <th>Company Size</th>\n",
       "      <th>Company Tenure</th>\n",
       "      <th>Remote Work</th>\n",
       "      <th>Leadership Opportunities</th>\n",
       "      <th>Innovation Opportunities</th>\n",
       "      <th>Company Reputation</th>\n",
       "      <th>Employee Recognition</th>\n",
       "      <th>Attrition</th>\n",
       "    </tr>\n",
       "  </thead>\n",
       "  <tbody>\n",
       "    <tr>\n",
       "      <th>0</th>\n",
       "      <td>52685</td>\n",
       "      <td>36</td>\n",
       "      <td>Male</td>\n",
       "      <td>13</td>\n",
       "      <td>Healthcare</td>\n",
       "      <td>8029</td>\n",
       "      <td>Excellent</td>\n",
       "      <td>High</td>\n",
       "      <td>Average</td>\n",
       "      <td>1</td>\n",
       "      <td>...</td>\n",
       "      <td>1</td>\n",
       "      <td>Mid</td>\n",
       "      <td>Large</td>\n",
       "      <td>22</td>\n",
       "      <td>No</td>\n",
       "      <td>No</td>\n",
       "      <td>No</td>\n",
       "      <td>Poor</td>\n",
       "      <td>Medium</td>\n",
       "      <td>Stayed</td>\n",
       "    </tr>\n",
       "    <tr>\n",
       "      <th>1</th>\n",
       "      <td>30585</td>\n",
       "      <td>35</td>\n",
       "      <td>Male</td>\n",
       "      <td>7</td>\n",
       "      <td>Education</td>\n",
       "      <td>4563</td>\n",
       "      <td>Good</td>\n",
       "      <td>High</td>\n",
       "      <td>Average</td>\n",
       "      <td>1</td>\n",
       "      <td>...</td>\n",
       "      <td>4</td>\n",
       "      <td>Entry</td>\n",
       "      <td>Medium</td>\n",
       "      <td>27</td>\n",
       "      <td>No</td>\n",
       "      <td>No</td>\n",
       "      <td>No</td>\n",
       "      <td>Good</td>\n",
       "      <td>High</td>\n",
       "      <td>Left</td>\n",
       "    </tr>\n",
       "    <tr>\n",
       "      <th>2</th>\n",
       "      <td>54656</td>\n",
       "      <td>50</td>\n",
       "      <td>Male</td>\n",
       "      <td>7</td>\n",
       "      <td>Education</td>\n",
       "      <td>5583</td>\n",
       "      <td>Fair</td>\n",
       "      <td>High</td>\n",
       "      <td>Average</td>\n",
       "      <td>3</td>\n",
       "      <td>...</td>\n",
       "      <td>2</td>\n",
       "      <td>Senior</td>\n",
       "      <td>Medium</td>\n",
       "      <td>76</td>\n",
       "      <td>No</td>\n",
       "      <td>No</td>\n",
       "      <td>Yes</td>\n",
       "      <td>Good</td>\n",
       "      <td>Low</td>\n",
       "      <td>Stayed</td>\n",
       "    </tr>\n",
       "    <tr>\n",
       "      <th>3</th>\n",
       "      <td>33442</td>\n",
       "      <td>58</td>\n",
       "      <td>Male</td>\n",
       "      <td>44</td>\n",
       "      <td>Media</td>\n",
       "      <td>5525</td>\n",
       "      <td>Fair</td>\n",
       "      <td>Very High</td>\n",
       "      <td>High</td>\n",
       "      <td>0</td>\n",
       "      <td>...</td>\n",
       "      <td>4</td>\n",
       "      <td>Entry</td>\n",
       "      <td>Medium</td>\n",
       "      <td>96</td>\n",
       "      <td>No</td>\n",
       "      <td>No</td>\n",
       "      <td>No</td>\n",
       "      <td>Poor</td>\n",
       "      <td>Low</td>\n",
       "      <td>Left</td>\n",
       "    </tr>\n",
       "    <tr>\n",
       "      <th>4</th>\n",
       "      <td>15667</td>\n",
       "      <td>39</td>\n",
       "      <td>Male</td>\n",
       "      <td>24</td>\n",
       "      <td>Education</td>\n",
       "      <td>4604</td>\n",
       "      <td>Good</td>\n",
       "      <td>High</td>\n",
       "      <td>Average</td>\n",
       "      <td>0</td>\n",
       "      <td>...</td>\n",
       "      <td>6</td>\n",
       "      <td>Mid</td>\n",
       "      <td>Large</td>\n",
       "      <td>45</td>\n",
       "      <td>Yes</td>\n",
       "      <td>No</td>\n",
       "      <td>No</td>\n",
       "      <td>Good</td>\n",
       "      <td>High</td>\n",
       "      <td>Stayed</td>\n",
       "    </tr>\n",
       "    <tr>\n",
       "      <th>...</th>\n",
       "      <td>...</td>\n",
       "      <td>...</td>\n",
       "      <td>...</td>\n",
       "      <td>...</td>\n",
       "      <td>...</td>\n",
       "      <td>...</td>\n",
       "      <td>...</td>\n",
       "      <td>...</td>\n",
       "      <td>...</td>\n",
       "      <td>...</td>\n",
       "      <td>...</td>\n",
       "      <td>...</td>\n",
       "      <td>...</td>\n",
       "      <td>...</td>\n",
       "      <td>...</td>\n",
       "      <td>...</td>\n",
       "      <td>...</td>\n",
       "      <td>...</td>\n",
       "      <td>...</td>\n",
       "      <td>...</td>\n",
       "      <td>...</td>\n",
       "    </tr>\n",
       "    <tr>\n",
       "      <th>14895</th>\n",
       "      <td>16243</td>\n",
       "      <td>56</td>\n",
       "      <td>Female</td>\n",
       "      <td>42</td>\n",
       "      <td>Healthcare</td>\n",
       "      <td>7830</td>\n",
       "      <td>Poor</td>\n",
       "      <td>Medium</td>\n",
       "      <td>Average</td>\n",
       "      <td>0</td>\n",
       "      <td>...</td>\n",
       "      <td>0</td>\n",
       "      <td>Senior</td>\n",
       "      <td>Medium</td>\n",
       "      <td>60</td>\n",
       "      <td>No</td>\n",
       "      <td>No</td>\n",
       "      <td>No</td>\n",
       "      <td>Poor</td>\n",
       "      <td>Medium</td>\n",
       "      <td>Stayed</td>\n",
       "    </tr>\n",
       "    <tr>\n",
       "      <th>14896</th>\n",
       "      <td>47175</td>\n",
       "      <td>30</td>\n",
       "      <td>Female</td>\n",
       "      <td>15</td>\n",
       "      <td>Education</td>\n",
       "      <td>3856</td>\n",
       "      <td>Good</td>\n",
       "      <td>Medium</td>\n",
       "      <td>Average</td>\n",
       "      <td>2</td>\n",
       "      <td>...</td>\n",
       "      <td>0</td>\n",
       "      <td>Entry</td>\n",
       "      <td>Medium</td>\n",
       "      <td>20</td>\n",
       "      <td>No</td>\n",
       "      <td>No</td>\n",
       "      <td>No</td>\n",
       "      <td>Good</td>\n",
       "      <td>Medium</td>\n",
       "      <td>Left</td>\n",
       "    </tr>\n",
       "    <tr>\n",
       "      <th>14897</th>\n",
       "      <td>12409</td>\n",
       "      <td>52</td>\n",
       "      <td>Male</td>\n",
       "      <td>5</td>\n",
       "      <td>Education</td>\n",
       "      <td>5654</td>\n",
       "      <td>Good</td>\n",
       "      <td>Very High</td>\n",
       "      <td>Below Average</td>\n",
       "      <td>0</td>\n",
       "      <td>...</td>\n",
       "      <td>4</td>\n",
       "      <td>Mid</td>\n",
       "      <td>Small</td>\n",
       "      <td>7</td>\n",
       "      <td>No</td>\n",
       "      <td>No</td>\n",
       "      <td>No</td>\n",
       "      <td>Good</td>\n",
       "      <td>High</td>\n",
       "      <td>Left</td>\n",
       "    </tr>\n",
       "    <tr>\n",
       "      <th>14898</th>\n",
       "      <td>9554</td>\n",
       "      <td>18</td>\n",
       "      <td>Male</td>\n",
       "      <td>4</td>\n",
       "      <td>Education</td>\n",
       "      <td>5276</td>\n",
       "      <td>Fair</td>\n",
       "      <td>High</td>\n",
       "      <td>Average</td>\n",
       "      <td>0</td>\n",
       "      <td>...</td>\n",
       "      <td>3</td>\n",
       "      <td>Mid</td>\n",
       "      <td>Large</td>\n",
       "      <td>5</td>\n",
       "      <td>No</td>\n",
       "      <td>No</td>\n",
       "      <td>No</td>\n",
       "      <td>Poor</td>\n",
       "      <td>High</td>\n",
       "      <td>Stayed</td>\n",
       "    </tr>\n",
       "    <tr>\n",
       "      <th>14899</th>\n",
       "      <td>73042</td>\n",
       "      <td>59</td>\n",
       "      <td>Female</td>\n",
       "      <td>48</td>\n",
       "      <td>Education</td>\n",
       "      <td>3774</td>\n",
       "      <td>Good</td>\n",
       "      <td>High</td>\n",
       "      <td>Below Average</td>\n",
       "      <td>1</td>\n",
       "      <td>...</td>\n",
       "      <td>4</td>\n",
       "      <td>Mid</td>\n",
       "      <td>Large</td>\n",
       "      <td>118</td>\n",
       "      <td>No</td>\n",
       "      <td>No</td>\n",
       "      <td>No</td>\n",
       "      <td>Good</td>\n",
       "      <td>Very High</td>\n",
       "      <td>Left</td>\n",
       "    </tr>\n",
       "  </tbody>\n",
       "</table>\n",
       "<p>14900 rows × 24 columns</p>\n",
       "</div>"
      ],
      "text/plain": [
       "       Employee ID  Age  Gender  Years at Company    Job Role  Monthly Income  \\\n",
       "0            52685   36    Male                13  Healthcare            8029   \n",
       "1            30585   35    Male                 7   Education            4563   \n",
       "2            54656   50    Male                 7   Education            5583   \n",
       "3            33442   58    Male                44       Media            5525   \n",
       "4            15667   39    Male                24   Education            4604   \n",
       "...            ...  ...     ...               ...         ...             ...   \n",
       "14895        16243   56  Female                42  Healthcare            7830   \n",
       "14896        47175   30  Female                15   Education            3856   \n",
       "14897        12409   52    Male                 5   Education            5654   \n",
       "14898         9554   18    Male                 4   Education            5276   \n",
       "14899        73042   59  Female                48   Education            3774   \n",
       "\n",
       "      Work-Life Balance Job Satisfaction Performance Rating  \\\n",
       "0             Excellent             High            Average   \n",
       "1                  Good             High            Average   \n",
       "2                  Fair             High            Average   \n",
       "3                  Fair        Very High               High   \n",
       "4                  Good             High            Average   \n",
       "...                 ...              ...                ...   \n",
       "14895              Poor           Medium            Average   \n",
       "14896              Good           Medium            Average   \n",
       "14897              Good        Very High      Below Average   \n",
       "14898              Fair             High            Average   \n",
       "14899              Good             High      Below Average   \n",
       "\n",
       "       Number of Promotions  ... Number of Dependents  Job Level Company Size  \\\n",
       "0                         1  ...                    1        Mid        Large   \n",
       "1                         1  ...                    4      Entry       Medium   \n",
       "2                         3  ...                    2     Senior       Medium   \n",
       "3                         0  ...                    4      Entry       Medium   \n",
       "4                         0  ...                    6        Mid        Large   \n",
       "...                     ...  ...                  ...        ...          ...   \n",
       "14895                     0  ...                    0     Senior       Medium   \n",
       "14896                     2  ...                    0      Entry       Medium   \n",
       "14897                     0  ...                    4        Mid        Small   \n",
       "14898                     0  ...                    3        Mid        Large   \n",
       "14899                     1  ...                    4        Mid        Large   \n",
       "\n",
       "      Company Tenure  Remote Work Leadership Opportunities  \\\n",
       "0                 22           No                       No   \n",
       "1                 27           No                       No   \n",
       "2                 76           No                       No   \n",
       "3                 96           No                       No   \n",
       "4                 45          Yes                       No   \n",
       "...              ...          ...                      ...   \n",
       "14895             60           No                       No   \n",
       "14896             20           No                       No   \n",
       "14897              7           No                       No   \n",
       "14898              5           No                       No   \n",
       "14899            118           No                       No   \n",
       "\n",
       "      Innovation Opportunities  Company Reputation Employee Recognition  \\\n",
       "0                           No                Poor               Medium   \n",
       "1                           No                Good                 High   \n",
       "2                          Yes                Good                  Low   \n",
       "3                           No                Poor                  Low   \n",
       "4                           No                Good                 High   \n",
       "...                        ...                 ...                  ...   \n",
       "14895                       No                Poor               Medium   \n",
       "14896                       No                Good               Medium   \n",
       "14897                       No                Good                 High   \n",
       "14898                       No                Poor                 High   \n",
       "14899                       No                Good            Very High   \n",
       "\n",
       "      Attrition  \n",
       "0        Stayed  \n",
       "1          Left  \n",
       "2        Stayed  \n",
       "3          Left  \n",
       "4        Stayed  \n",
       "...         ...  \n",
       "14895    Stayed  \n",
       "14896      Left  \n",
       "14897      Left  \n",
       "14898    Stayed  \n",
       "14899      Left  \n",
       "\n",
       "[14900 rows x 24 columns]"
      ]
     },
     "execution_count": 144,
     "metadata": {},
     "output_type": "execute_result"
    }
   ],
   "source": [
    "df=pd.read_csv(\"test.csv\")\n",
    "df"
   ]
  },
  {
   "cell_type": "markdown",
   "metadata": {},
   "source": [
    "## DATA CLEANING\n"
   ]
  },
  {
   "cell_type": "code",
   "execution_count": 145,
   "metadata": {},
   "outputs": [
    {
     "name": "stdout",
     "output_type": "stream",
     "text": [
      "Employee_ID\n",
      "Age\n",
      "Gender\n",
      "Years_at_Company\n",
      "Job_Role\n",
      "Monthly_Income\n",
      "Work-Life_Balance\n",
      "Job_Satisfaction\n",
      "Performance_Rating\n",
      "Number_of_Promotions\n",
      "Overtime\n",
      "Distance_from_Home\n",
      "Education_Level\n",
      "Marital_Status\n",
      "Number_of_Dependents\n",
      "Job_Level\n",
      "Company_Size\n",
      "Company_Tenure\n",
      "Remote_Work\n",
      "Leadership_Opportunities\n",
      "Innovation_Opportunities\n",
      "Company_Reputation\n",
      "Employee_Recognition\n",
      "Attrition\n"
     ]
    }
   ],
   "source": [
    "for i in df:\n",
    "    j=i.replace(' ','_')\n",
    "    df=df.rename(columns={i:j.capitalize()})\n",
    "    print(j)"
   ]
  },
  {
   "cell_type": "code",
   "execution_count": 146,
   "metadata": {},
   "outputs": [
    {
     "data": {
      "text/html": [
       "<div>\n",
       "<style scoped>\n",
       "    .dataframe tbody tr th:only-of-type {\n",
       "        vertical-align: middle;\n",
       "    }\n",
       "\n",
       "    .dataframe tbody tr th {\n",
       "        vertical-align: top;\n",
       "    }\n",
       "\n",
       "    .dataframe thead th {\n",
       "        text-align: right;\n",
       "    }\n",
       "</style>\n",
       "<table border=\"1\" class=\"dataframe\">\n",
       "  <thead>\n",
       "    <tr style=\"text-align: right;\">\n",
       "      <th></th>\n",
       "      <th>Employee_id</th>\n",
       "      <th>Age</th>\n",
       "      <th>Years_at_company</th>\n",
       "      <th>Monthly_income</th>\n",
       "      <th>Number_of_promotions</th>\n",
       "      <th>Distance_from_home</th>\n",
       "      <th>Number_of_dependents</th>\n",
       "      <th>Company_tenure</th>\n",
       "    </tr>\n",
       "  </thead>\n",
       "  <tbody>\n",
       "    <tr>\n",
       "      <th>count</th>\n",
       "      <td>14900.000000</td>\n",
       "      <td>14900.000000</td>\n",
       "      <td>14900.000000</td>\n",
       "      <td>14900.000000</td>\n",
       "      <td>14900.000000</td>\n",
       "      <td>14900.000000</td>\n",
       "      <td>14900.000000</td>\n",
       "      <td>14900.000000</td>\n",
       "    </tr>\n",
       "    <tr>\n",
       "      <th>mean</th>\n",
       "      <td>37339.022081</td>\n",
       "      <td>38.385235</td>\n",
       "      <td>15.592416</td>\n",
       "      <td>7287.306040</td>\n",
       "      <td>0.834362</td>\n",
       "      <td>49.927315</td>\n",
       "      <td>1.659329</td>\n",
       "      <td>55.603624</td>\n",
       "    </tr>\n",
       "    <tr>\n",
       "      <th>std</th>\n",
       "      <td>21453.129293</td>\n",
       "      <td>12.097904</td>\n",
       "      <td>11.133792</td>\n",
       "      <td>2156.737934</td>\n",
       "      <td>0.996511</td>\n",
       "      <td>28.702307</td>\n",
       "      <td>1.545401</td>\n",
       "      <td>25.352807</td>\n",
       "    </tr>\n",
       "    <tr>\n",
       "      <th>min</th>\n",
       "      <td>5.000000</td>\n",
       "      <td>18.000000</td>\n",
       "      <td>1.000000</td>\n",
       "      <td>1226.000000</td>\n",
       "      <td>0.000000</td>\n",
       "      <td>1.000000</td>\n",
       "      <td>0.000000</td>\n",
       "      <td>2.000000</td>\n",
       "    </tr>\n",
       "    <tr>\n",
       "      <th>25%</th>\n",
       "      <td>18825.500000</td>\n",
       "      <td>28.000000</td>\n",
       "      <td>7.000000</td>\n",
       "      <td>5633.750000</td>\n",
       "      <td>0.000000</td>\n",
       "      <td>25.000000</td>\n",
       "      <td>0.000000</td>\n",
       "      <td>36.000000</td>\n",
       "    </tr>\n",
       "    <tr>\n",
       "      <th>50%</th>\n",
       "      <td>37433.000000</td>\n",
       "      <td>38.000000</td>\n",
       "      <td>13.000000</td>\n",
       "      <td>7332.000000</td>\n",
       "      <td>1.000000</td>\n",
       "      <td>50.000000</td>\n",
       "      <td>1.000000</td>\n",
       "      <td>56.000000</td>\n",
       "    </tr>\n",
       "    <tr>\n",
       "      <th>75%</th>\n",
       "      <td>55857.500000</td>\n",
       "      <td>49.000000</td>\n",
       "      <td>23.000000</td>\n",
       "      <td>8852.000000</td>\n",
       "      <td>2.000000</td>\n",
       "      <td>75.000000</td>\n",
       "      <td>3.000000</td>\n",
       "      <td>75.000000</td>\n",
       "    </tr>\n",
       "    <tr>\n",
       "      <th>max</th>\n",
       "      <td>74471.000000</td>\n",
       "      <td>59.000000</td>\n",
       "      <td>51.000000</td>\n",
       "      <td>15063.000000</td>\n",
       "      <td>4.000000</td>\n",
       "      <td>99.000000</td>\n",
       "      <td>6.000000</td>\n",
       "      <td>127.000000</td>\n",
       "    </tr>\n",
       "  </tbody>\n",
       "</table>\n",
       "</div>"
      ],
      "text/plain": [
       "        Employee_id           Age  Years_at_company  Monthly_income  \\\n",
       "count  14900.000000  14900.000000      14900.000000    14900.000000   \n",
       "mean   37339.022081     38.385235         15.592416     7287.306040   \n",
       "std    21453.129293     12.097904         11.133792     2156.737934   \n",
       "min        5.000000     18.000000          1.000000     1226.000000   \n",
       "25%    18825.500000     28.000000          7.000000     5633.750000   \n",
       "50%    37433.000000     38.000000         13.000000     7332.000000   \n",
       "75%    55857.500000     49.000000         23.000000     8852.000000   \n",
       "max    74471.000000     59.000000         51.000000    15063.000000   \n",
       "\n",
       "       Number_of_promotions  Distance_from_home  Number_of_dependents  \\\n",
       "count          14900.000000        14900.000000          14900.000000   \n",
       "mean               0.834362           49.927315              1.659329   \n",
       "std                0.996511           28.702307              1.545401   \n",
       "min                0.000000            1.000000              0.000000   \n",
       "25%                0.000000           25.000000              0.000000   \n",
       "50%                1.000000           50.000000              1.000000   \n",
       "75%                2.000000           75.000000              3.000000   \n",
       "max                4.000000           99.000000              6.000000   \n",
       "\n",
       "       Company_tenure  \n",
       "count    14900.000000  \n",
       "mean        55.603624  \n",
       "std         25.352807  \n",
       "min          2.000000  \n",
       "25%         36.000000  \n",
       "50%         56.000000  \n",
       "75%         75.000000  \n",
       "max        127.000000  "
      ]
     },
     "execution_count": 146,
     "metadata": {},
     "output_type": "execute_result"
    }
   ],
   "source": [
    "df.describe()"
   ]
  },
  {
   "cell_type": "code",
   "execution_count": 147,
   "metadata": {},
   "outputs": [
    {
     "name": "stdout",
     "output_type": "stream",
     "text": [
      "<class 'pandas.core.frame.DataFrame'>\n",
      "RangeIndex: 14900 entries, 0 to 14899\n",
      "Data columns (total 24 columns):\n",
      " #   Column                    Non-Null Count  Dtype \n",
      "---  ------                    --------------  ----- \n",
      " 0   Employee_id               14900 non-null  int64 \n",
      " 1   Age                       14900 non-null  int64 \n",
      " 2   Gender                    14900 non-null  object\n",
      " 3   Years_at_company          14900 non-null  int64 \n",
      " 4   Job_role                  14900 non-null  object\n",
      " 5   Monthly_income            14900 non-null  int64 \n",
      " 6   Work-life_balance         14900 non-null  object\n",
      " 7   Job_satisfaction          14900 non-null  object\n",
      " 8   Performance_rating        14900 non-null  object\n",
      " 9   Number_of_promotions      14900 non-null  int64 \n",
      " 10  Overtime                  14900 non-null  object\n",
      " 11  Distance_from_home        14900 non-null  int64 \n",
      " 12  Education_level           14900 non-null  object\n",
      " 13  Marital_status            14900 non-null  object\n",
      " 14  Number_of_dependents      14900 non-null  int64 \n",
      " 15  Job_level                 14900 non-null  object\n",
      " 16  Company_size              14900 non-null  object\n",
      " 17  Company_tenure            14900 non-null  int64 \n",
      " 18  Remote_work               14900 non-null  object\n",
      " 19  Leadership_opportunities  14900 non-null  object\n",
      " 20  Innovation_opportunities  14900 non-null  object\n",
      " 21  Company_reputation        14900 non-null  object\n",
      " 22  Employee_recognition      14900 non-null  object\n",
      " 23  Attrition                 14900 non-null  object\n",
      "dtypes: int64(8), object(16)\n",
      "memory usage: 2.7+ MB\n"
     ]
    }
   ],
   "source": [
    "df.info()"
   ]
  },
  {
   "cell_type": "code",
   "execution_count": 148,
   "metadata": {},
   "outputs": [
    {
     "data": {
      "text/plain": [
       "Employee_id                 0\n",
       "Age                         0\n",
       "Gender                      0\n",
       "Years_at_company            0\n",
       "Job_role                    0\n",
       "Monthly_income              0\n",
       "Work-life_balance           0\n",
       "Job_satisfaction            0\n",
       "Performance_rating          0\n",
       "Number_of_promotions        0\n",
       "Overtime                    0\n",
       "Distance_from_home          0\n",
       "Education_level             0\n",
       "Marital_status              0\n",
       "Number_of_dependents        0\n",
       "Job_level                   0\n",
       "Company_size                0\n",
       "Company_tenure              0\n",
       "Remote_work                 0\n",
       "Leadership_opportunities    0\n",
       "Innovation_opportunities    0\n",
       "Company_reputation          0\n",
       "Employee_recognition        0\n",
       "Attrition                   0\n",
       "dtype: int64"
      ]
     },
     "execution_count": 148,
     "metadata": {},
     "output_type": "execute_result"
    }
   ],
   "source": [
    "df.isnull().sum()"
   ]
  },
  {
   "cell_type": "code",
   "execution_count": 149,
   "metadata": {},
   "outputs": [
    {
     "data": {
      "text/plain": [
       "(14900, 24)"
      ]
     },
     "execution_count": 149,
     "metadata": {},
     "output_type": "execute_result"
    }
   ],
   "source": [
    "df.shape"
   ]
  },
  {
   "cell_type": "code",
   "execution_count": 150,
   "metadata": {},
   "outputs": [],
   "source": [
    "import openpyxl\n",
    "\n",
    "df.to_excel('test2.xlsx', engine='openpyxl')"
   ]
  },
  {
   "cell_type": "markdown",
   "metadata": {},
   "source": [
    "This block saves the DataFrame to an Excel file (`test2.xlsx`) using the `openpyxl` engine.\n"
   ]
  },
  {
   "cell_type": "code",
   "execution_count": 151,
   "metadata": {},
   "outputs": [
    {
     "data": {
      "text/html": [
       "<div>\n",
       "<style scoped>\n",
       "    .dataframe tbody tr th:only-of-type {\n",
       "        vertical-align: middle;\n",
       "    }\n",
       "\n",
       "    .dataframe tbody tr th {\n",
       "        vertical-align: top;\n",
       "    }\n",
       "\n",
       "    .dataframe thead th {\n",
       "        text-align: right;\n",
       "    }\n",
       "</style>\n",
       "<table border=\"1\" class=\"dataframe\">\n",
       "  <thead>\n",
       "    <tr style=\"text-align: right;\">\n",
       "      <th></th>\n",
       "      <th>Unnamed: 0</th>\n",
       "      <th>Employee_id</th>\n",
       "      <th>Age</th>\n",
       "      <th>Gender</th>\n",
       "      <th>Years_at_company</th>\n",
       "      <th>Job_role</th>\n",
       "      <th>Monthly_income</th>\n",
       "      <th>Work-life_balance</th>\n",
       "      <th>Job_satisfaction</th>\n",
       "      <th>Performance_rating</th>\n",
       "      <th>...</th>\n",
       "      <th>Number_of_dependents</th>\n",
       "      <th>Job_level</th>\n",
       "      <th>Company_size</th>\n",
       "      <th>Company_tenure</th>\n",
       "      <th>Remote_work</th>\n",
       "      <th>Leadership_opportunities</th>\n",
       "      <th>Innovation_opportunities</th>\n",
       "      <th>Company_reputation</th>\n",
       "      <th>Employee_recognition</th>\n",
       "      <th>Attrition</th>\n",
       "    </tr>\n",
       "  </thead>\n",
       "  <tbody>\n",
       "    <tr>\n",
       "      <th>0</th>\n",
       "      <td>0</td>\n",
       "      <td>52685</td>\n",
       "      <td>36</td>\n",
       "      <td>Male</td>\n",
       "      <td>13</td>\n",
       "      <td>Healthcare</td>\n",
       "      <td>8029</td>\n",
       "      <td>Excellent</td>\n",
       "      <td>High</td>\n",
       "      <td>Average</td>\n",
       "      <td>...</td>\n",
       "      <td>1</td>\n",
       "      <td>Mid</td>\n",
       "      <td>Large</td>\n",
       "      <td>22</td>\n",
       "      <td>No</td>\n",
       "      <td>No</td>\n",
       "      <td>No</td>\n",
       "      <td>Poor</td>\n",
       "      <td>Medium</td>\n",
       "      <td>Stayed</td>\n",
       "    </tr>\n",
       "    <tr>\n",
       "      <th>1</th>\n",
       "      <td>1</td>\n",
       "      <td>30585</td>\n",
       "      <td>35</td>\n",
       "      <td>Male</td>\n",
       "      <td>7</td>\n",
       "      <td>Education</td>\n",
       "      <td>4563</td>\n",
       "      <td>Good</td>\n",
       "      <td>High</td>\n",
       "      <td>Average</td>\n",
       "      <td>...</td>\n",
       "      <td>4</td>\n",
       "      <td>Entry</td>\n",
       "      <td>Medium</td>\n",
       "      <td>27</td>\n",
       "      <td>No</td>\n",
       "      <td>No</td>\n",
       "      <td>No</td>\n",
       "      <td>Good</td>\n",
       "      <td>High</td>\n",
       "      <td>Left</td>\n",
       "    </tr>\n",
       "    <tr>\n",
       "      <th>2</th>\n",
       "      <td>2</td>\n",
       "      <td>54656</td>\n",
       "      <td>50</td>\n",
       "      <td>Male</td>\n",
       "      <td>7</td>\n",
       "      <td>Education</td>\n",
       "      <td>5583</td>\n",
       "      <td>Fair</td>\n",
       "      <td>High</td>\n",
       "      <td>Average</td>\n",
       "      <td>...</td>\n",
       "      <td>2</td>\n",
       "      <td>Senior</td>\n",
       "      <td>Medium</td>\n",
       "      <td>76</td>\n",
       "      <td>No</td>\n",
       "      <td>No</td>\n",
       "      <td>Yes</td>\n",
       "      <td>Good</td>\n",
       "      <td>Low</td>\n",
       "      <td>Stayed</td>\n",
       "    </tr>\n",
       "    <tr>\n",
       "      <th>3</th>\n",
       "      <td>3</td>\n",
       "      <td>33442</td>\n",
       "      <td>58</td>\n",
       "      <td>Male</td>\n",
       "      <td>44</td>\n",
       "      <td>Media</td>\n",
       "      <td>5525</td>\n",
       "      <td>Fair</td>\n",
       "      <td>Very High</td>\n",
       "      <td>High</td>\n",
       "      <td>...</td>\n",
       "      <td>4</td>\n",
       "      <td>Entry</td>\n",
       "      <td>Medium</td>\n",
       "      <td>96</td>\n",
       "      <td>No</td>\n",
       "      <td>No</td>\n",
       "      <td>No</td>\n",
       "      <td>Poor</td>\n",
       "      <td>Low</td>\n",
       "      <td>Left</td>\n",
       "    </tr>\n",
       "    <tr>\n",
       "      <th>4</th>\n",
       "      <td>4</td>\n",
       "      <td>15667</td>\n",
       "      <td>39</td>\n",
       "      <td>Male</td>\n",
       "      <td>24</td>\n",
       "      <td>Education</td>\n",
       "      <td>4604</td>\n",
       "      <td>Good</td>\n",
       "      <td>High</td>\n",
       "      <td>Average</td>\n",
       "      <td>...</td>\n",
       "      <td>6</td>\n",
       "      <td>Mid</td>\n",
       "      <td>Large</td>\n",
       "      <td>45</td>\n",
       "      <td>Yes</td>\n",
       "      <td>No</td>\n",
       "      <td>No</td>\n",
       "      <td>Good</td>\n",
       "      <td>High</td>\n",
       "      <td>Stayed</td>\n",
       "    </tr>\n",
       "    <tr>\n",
       "      <th>...</th>\n",
       "      <td>...</td>\n",
       "      <td>...</td>\n",
       "      <td>...</td>\n",
       "      <td>...</td>\n",
       "      <td>...</td>\n",
       "      <td>...</td>\n",
       "      <td>...</td>\n",
       "      <td>...</td>\n",
       "      <td>...</td>\n",
       "      <td>...</td>\n",
       "      <td>...</td>\n",
       "      <td>...</td>\n",
       "      <td>...</td>\n",
       "      <td>...</td>\n",
       "      <td>...</td>\n",
       "      <td>...</td>\n",
       "      <td>...</td>\n",
       "      <td>...</td>\n",
       "      <td>...</td>\n",
       "      <td>...</td>\n",
       "      <td>...</td>\n",
       "    </tr>\n",
       "    <tr>\n",
       "      <th>14895</th>\n",
       "      <td>14895</td>\n",
       "      <td>16243</td>\n",
       "      <td>56</td>\n",
       "      <td>Female</td>\n",
       "      <td>42</td>\n",
       "      <td>Healthcare</td>\n",
       "      <td>7830</td>\n",
       "      <td>Poor</td>\n",
       "      <td>Medium</td>\n",
       "      <td>Average</td>\n",
       "      <td>...</td>\n",
       "      <td>0</td>\n",
       "      <td>Senior</td>\n",
       "      <td>Medium</td>\n",
       "      <td>60</td>\n",
       "      <td>No</td>\n",
       "      <td>No</td>\n",
       "      <td>No</td>\n",
       "      <td>Poor</td>\n",
       "      <td>Medium</td>\n",
       "      <td>Stayed</td>\n",
       "    </tr>\n",
       "    <tr>\n",
       "      <th>14896</th>\n",
       "      <td>14896</td>\n",
       "      <td>47175</td>\n",
       "      <td>30</td>\n",
       "      <td>Female</td>\n",
       "      <td>15</td>\n",
       "      <td>Education</td>\n",
       "      <td>3856</td>\n",
       "      <td>Good</td>\n",
       "      <td>Medium</td>\n",
       "      <td>Average</td>\n",
       "      <td>...</td>\n",
       "      <td>0</td>\n",
       "      <td>Entry</td>\n",
       "      <td>Medium</td>\n",
       "      <td>20</td>\n",
       "      <td>No</td>\n",
       "      <td>No</td>\n",
       "      <td>No</td>\n",
       "      <td>Good</td>\n",
       "      <td>Medium</td>\n",
       "      <td>Left</td>\n",
       "    </tr>\n",
       "    <tr>\n",
       "      <th>14897</th>\n",
       "      <td>14897</td>\n",
       "      <td>12409</td>\n",
       "      <td>52</td>\n",
       "      <td>Male</td>\n",
       "      <td>5</td>\n",
       "      <td>Education</td>\n",
       "      <td>5654</td>\n",
       "      <td>Good</td>\n",
       "      <td>Very High</td>\n",
       "      <td>Below Average</td>\n",
       "      <td>...</td>\n",
       "      <td>4</td>\n",
       "      <td>Mid</td>\n",
       "      <td>Small</td>\n",
       "      <td>7</td>\n",
       "      <td>No</td>\n",
       "      <td>No</td>\n",
       "      <td>No</td>\n",
       "      <td>Good</td>\n",
       "      <td>High</td>\n",
       "      <td>Left</td>\n",
       "    </tr>\n",
       "    <tr>\n",
       "      <th>14898</th>\n",
       "      <td>14898</td>\n",
       "      <td>9554</td>\n",
       "      <td>18</td>\n",
       "      <td>Male</td>\n",
       "      <td>4</td>\n",
       "      <td>Education</td>\n",
       "      <td>5276</td>\n",
       "      <td>Fair</td>\n",
       "      <td>High</td>\n",
       "      <td>Average</td>\n",
       "      <td>...</td>\n",
       "      <td>3</td>\n",
       "      <td>Mid</td>\n",
       "      <td>Large</td>\n",
       "      <td>5</td>\n",
       "      <td>No</td>\n",
       "      <td>No</td>\n",
       "      <td>No</td>\n",
       "      <td>Poor</td>\n",
       "      <td>High</td>\n",
       "      <td>Stayed</td>\n",
       "    </tr>\n",
       "    <tr>\n",
       "      <th>14899</th>\n",
       "      <td>14899</td>\n",
       "      <td>73042</td>\n",
       "      <td>59</td>\n",
       "      <td>Female</td>\n",
       "      <td>48</td>\n",
       "      <td>Education</td>\n",
       "      <td>3774</td>\n",
       "      <td>Good</td>\n",
       "      <td>High</td>\n",
       "      <td>Below Average</td>\n",
       "      <td>...</td>\n",
       "      <td>4</td>\n",
       "      <td>Mid</td>\n",
       "      <td>Large</td>\n",
       "      <td>118</td>\n",
       "      <td>No</td>\n",
       "      <td>No</td>\n",
       "      <td>No</td>\n",
       "      <td>Good</td>\n",
       "      <td>Very High</td>\n",
       "      <td>Left</td>\n",
       "    </tr>\n",
       "  </tbody>\n",
       "</table>\n",
       "<p>14900 rows × 25 columns</p>\n",
       "</div>"
      ],
      "text/plain": [
       "       Unnamed: 0  Employee_id  Age  Gender  Years_at_company    Job_role  \\\n",
       "0               0        52685   36    Male                13  Healthcare   \n",
       "1               1        30585   35    Male                 7   Education   \n",
       "2               2        54656   50    Male                 7   Education   \n",
       "3               3        33442   58    Male                44       Media   \n",
       "4               4        15667   39    Male                24   Education   \n",
       "...           ...          ...  ...     ...               ...         ...   \n",
       "14895       14895        16243   56  Female                42  Healthcare   \n",
       "14896       14896        47175   30  Female                15   Education   \n",
       "14897       14897        12409   52    Male                 5   Education   \n",
       "14898       14898         9554   18    Male                 4   Education   \n",
       "14899       14899        73042   59  Female                48   Education   \n",
       "\n",
       "       Monthly_income Work-life_balance Job_satisfaction Performance_rating  \\\n",
       "0                8029         Excellent             High            Average   \n",
       "1                4563              Good             High            Average   \n",
       "2                5583              Fair             High            Average   \n",
       "3                5525              Fair        Very High               High   \n",
       "4                4604              Good             High            Average   \n",
       "...               ...               ...              ...                ...   \n",
       "14895            7830              Poor           Medium            Average   \n",
       "14896            3856              Good           Medium            Average   \n",
       "14897            5654              Good        Very High      Below Average   \n",
       "14898            5276              Fair             High            Average   \n",
       "14899            3774              Good             High      Below Average   \n",
       "\n",
       "       ...  Number_of_dependents Job_level  Company_size Company_tenure  \\\n",
       "0      ...                     1       Mid         Large             22   \n",
       "1      ...                     4     Entry        Medium             27   \n",
       "2      ...                     2    Senior        Medium             76   \n",
       "3      ...                     4     Entry        Medium             96   \n",
       "4      ...                     6       Mid         Large             45   \n",
       "...    ...                   ...       ...           ...            ...   \n",
       "14895  ...                     0    Senior        Medium             60   \n",
       "14896  ...                     0     Entry        Medium             20   \n",
       "14897  ...                     4       Mid         Small              7   \n",
       "14898  ...                     3       Mid         Large              5   \n",
       "14899  ...                     4       Mid         Large            118   \n",
       "\n",
       "      Remote_work  Leadership_opportunities Innovation_opportunities  \\\n",
       "0              No                        No                       No   \n",
       "1              No                        No                       No   \n",
       "2              No                        No                      Yes   \n",
       "3              No                        No                       No   \n",
       "4             Yes                        No                       No   \n",
       "...           ...                       ...                      ...   \n",
       "14895          No                        No                       No   \n",
       "14896          No                        No                       No   \n",
       "14897          No                        No                       No   \n",
       "14898          No                        No                       No   \n",
       "14899          No                        No                       No   \n",
       "\n",
       "      Company_reputation  Employee_recognition Attrition  \n",
       "0                   Poor                Medium    Stayed  \n",
       "1                   Good                  High      Left  \n",
       "2                   Good                   Low    Stayed  \n",
       "3                   Poor                   Low      Left  \n",
       "4                   Good                  High    Stayed  \n",
       "...                  ...                   ...       ...  \n",
       "14895               Poor                Medium    Stayed  \n",
       "14896               Good                Medium      Left  \n",
       "14897               Good                  High      Left  \n",
       "14898               Poor                  High    Stayed  \n",
       "14899               Good             Very High      Left  \n",
       "\n",
       "[14900 rows x 25 columns]"
      ]
     },
     "execution_count": 151,
     "metadata": {},
     "output_type": "execute_result"
    }
   ],
   "source": [
    "df=pd.read_excel('test2.xlsx')\n",
    "df"
   ]
  },
  {
   "cell_type": "markdown",
   "metadata": {},
   "source": [
    "This block loads the data from the Excel file (`test2.xlsx`) into a pandas DataFrame and displays its contents.\n"
   ]
  },
  {
   "cell_type": "markdown",
   "metadata": {},
   "source": [
    "#### DATASET BEFORE DROPPING THE OUTLIERS"
   ]
  },
  {
   "cell_type": "code",
   "execution_count": 152,
   "metadata": {},
   "outputs": [
    {
     "name": "stdout",
     "output_type": "stream",
     "text": [
      "\n"
     ]
    },
    {
     "data": {
      "image/png": "[encoded data removed]",
      "text/plain": [
       "<Figure size 640x480 with 1 Axes>"
      ]
     },
     "metadata": {},
     "output_type": "display_data"
    },
    {
     "name": "stdout",
     "output_type": "stream",
     "text": [
      "\n"
     ]
    },
    {
     "data": {
      "image/png": "[encoded data removed]",
      "text/plain": [
       "<Figure size 640x480 with 1 Axes>"
      ]
     },
     "metadata": {},
     "output_type": "display_data"
    },
    {
     "name": "stdout",
     "output_type": "stream",
     "text": [
      "\n"
     ]
    },
    {
     "data": {
      "image/png": "[encoded data removed]",
      "text/plain": [
       "<Figure size 640x480 with 1 Axes>"
      ]
     },
     "metadata": {},
     "output_type": "display_data"
    },
    {
     "name": "stdout",
     "output_type": "stream",
     "text": [
      "\n"
     ]
    },
    {
     "data": {
      "image/png": "[encoded data removed]",
      "text/plain": [
       "<Figure size 640x480 with 1 Axes>"
      ]
     },
     "metadata": {},
     "output_type": "display_data"
    },
    {
     "name": "stdout",
     "output_type": "stream",
     "text": [
      "\n"
     ]
    },
    {
     "data": {
      "image/png": "[encoded data removed]",
      "text/plain": [
       "<Figure size 640x480 with 1 Axes>"
      ]
     },
     "metadata": {},
     "output_type": "display_data"
    },
    {
     "name": "stdout",
     "output_type": "stream",
     "text": [
      "\n"
     ]
    },
    {
     "data": {
      "image/png": "[encoded data removed]",
      "text/plain": [
       "<Figure size 640x480 with 1 Axes>"
      ]
     },
     "metadata": {},
     "output_type": "display_data"
    },
    {
     "name": "stdout",
     "output_type": "stream",
     "text": [
      "\n"
     ]
    },
    {
     "data": {
      "image/png": "[encoded data removed]",
      "text/plain": [
       "<Figure size 640x480 with 1 Axes>"
      ]
     },
     "metadata": {},
     "output_type": "display_data"
    },
    {
     "name": "stdout",
     "output_type": "stream",
     "text": [
      "\n"
     ]
    },
    {
     "data": {
      "image/png": "[encoded data removed]",
      "text/plain": [
       "<Figure size 640x480 with 1 Axes>"
      ]
     },
     "metadata": {},
     "output_type": "display_data"
    },
    {
     "name": "stdout",
     "output_type": "stream",
     "text": [
      "\n"
     ]
    },
    {
     "data": {
      "image/png": "[encoded data removed]",
      "text/plain": [
       "<Figure size 640x480 with 1 Axes>"
      ]
     },
     "metadata": {},
     "output_type": "display_data"
    }
   ],
   "source": [
    "cols= df.select_dtypes(include=[np.number]).columns\n",
    "\n",
    "for i in cols:\n",
    "    ax= sns.boxplot(data=df, x=i)\n",
    "    print()\n",
    "    plt.show()"
   ]
  },
  {
   "cell_type": "markdown",
   "metadata": {},
   "source": [
    "This block selects the numeric columns from the DataFrame and creates a boxplot for each of them using seaborn, displaying the plots one by one.\n"
   ]
  },
  {
   "cell_type": "markdown",
   "metadata": {},
   "source": [
    "#### DROPPING THE OUTLIERS"
   ]
  },
  {
   "cell_type": "code",
   "execution_count": 153,
   "metadata": {},
   "outputs": [
    {
     "name": "stdout",
     "output_type": "stream",
     "text": [
      "                  Lower Whisker  Upper Whisker  No. of Outliers\n",
      "Years_at_company            1.0           47.0               65\n",
      "Monthly_income           1226.0        13647.0               16\n",
      "\n",
      "Original shape: (14900, 25), New shape: (14819, 25)\n"
     ]
    }
   ],
   "source": [
    "def get_whisker_bounds(df, column):\n",
    "    fig, ax = plt.subplots()\n",
    "    box = ax.boxplot(df[column].dropna(), vert=False)\n",
    "    plt.close(fig)\n",
    "\n",
    "    whiskers = [line.get_xdata()[1] for line in box['whiskers']]\n",
    "    return whiskers[0], whiskers[1]\n",
    "\n",
    "def remove_outliers_using_whiskers(df):\n",
    "    df_clean = df.copy()\n",
    "    outliers = {}\n",
    "\n",
    "    for col in df.select_dtypes(include=[np.number]).columns:\n",
    "        if col in ['Years_at_company','Monthly_income']:  \n",
    "            \n",
    "            # MODIFY THIS IF STATEMENT FOR EACH DIFFERENT DATASETS!\n",
    "\n",
    "            lower_whisker, upper_whisker = get_whisker_bounds(df, col)\n",
    "            outlier_count = ((df[col] < lower_whisker) | (df[col] > upper_whisker)).sum()\n",
    "            outliers[col] = (lower_whisker, upper_whisker, outlier_count)\n",
    "\n",
    "            df_clean = df_clean[(df_clean[col] >= lower_whisker) & (df_clean[col] <= upper_whisker)]\n",
    "\n",
    "    outliers_df = pd.DataFrame.from_dict(outliers, orient='index', columns=['Lower Whisker', 'Upper Whisker', 'No. of Outliers'])\n",
    "\n",
    "    print(outliers_df.to_string(index=True))\n",
    "    return df_clean\n",
    "\n",
    "df_cleaned = remove_outliers_using_whiskers(df)\n",
    "print(f\"\\nOriginal shape: {df.shape}, New shape: {df_cleaned.shape}\")"
   ]
  },
  {
   "cell_type": "markdown",
   "metadata": {},
   "source": [
    "#### PLOTTING THE DATASET AFTER CLEANING THE OUTLIERS"
   ]
  },
  {
   "cell_type": "code",
   "execution_count": 154,
   "metadata": {},
   "outputs": [
    {
     "data": {
      "image/png": "[encoded data removed]",
      "text/plain": [
       "<Figure size 1500x1500 with 8 Axes>"
      ]
     },
     "metadata": {},
     "output_type": "display_data"
    }
   ],
   "source": [
    "cols= df_cleaned.select_dtypes(include=[np.number]).columns[:-1]\n",
    "plt.figure(figsize=(15,15))\n",
    "for count, col in enumerate(cols):\n",
    "    plt.subplot(3,3,count+1)\n",
    "    sns.boxplot(data=df_cleaned, x=col)\n",
    "plt.tight_layout()\n",
    "plt.show()"
   ]
  },
  {
   "cell_type": "code",
   "execution_count": 155,
   "metadata": {},
   "outputs": [],
   "source": [
    "df=df_cleaned"
   ]
  },
  {
   "cell_type": "code",
   "execution_count": 156,
   "metadata": {},
   "outputs": [],
   "source": [
    "df=df.drop(columns=['Employee_id','Unnamed: 0'])"
   ]
  },
  {
   "cell_type": "markdown",
   "metadata": {},
   "source": [
    "### CORRELATION"
   ]
  },
  {
   "cell_type": "code",
   "execution_count": 157,
   "metadata": {},
   "outputs": [
    {
     "data": {
      "image/png": "[encoded data removed]",
      "text/plain": [
       "<Figure size 800x600 with 2 Axes>"
      ]
     },
     "metadata": {},
     "output_type": "display_data"
    }
   ],
   "source": [
    "cols=df.select_dtypes(include=np.number)[:-1]\n",
    "cor_matrix=cols.corr()\n",
    "plt.figure(figsize=(8, 6))\n",
    "sns.heatmap(cor_matrix, annot=True, cmap='coolwarm', fmt=\".2f\", linewidths=0.5)\n",
    "\n",
    "\n",
    "plt.title(\"Correlation Heatmap of Numerical Features\")\n",
    "plt.show()"
   ]
  },
  {
   "cell_type": "markdown",
   "metadata": {},
   "source": [
    "## MACHINE LEARNING BEGINS"
   ]
  },
  {
   "cell_type": "code",
   "execution_count": 158,
   "metadata": {},
   "outputs": [],
   "source": [
    "from sklearn.preprocessing import LabelEncoder, OneHotEncoder, StandardScaler\n",
    "from sklearn.compose import ColumnTransformer\n",
    "from sklearn.model_selection import train_test_split"
   ]
  },
  {
   "cell_type": "code",
   "execution_count": 159,
   "metadata": {},
   "outputs": [
    {
     "name": "stdout",
     "output_type": "stream",
     "text": [
      "0    1  2          3    4         5    6       7  8   9  10               11      12 13    14     15 16 17 18 19   20     21\n",
      "36 Male 13 Healthcare 8029 Excellent High Average  1 Yes 83  Master’s Degree Married  1   Mid  Large 22 No No No Poor Medium\n",
      "35 Male  7  Education 4563      Good High Average  1 Yes 55 Associate Degree  Single  4 Entry Medium 27 No No No Good   High\n"
     ]
    }
   ],
   "source": [
    "X=df.iloc[:,:-1].values\n",
    "y=df.iloc[:,-1].values\n",
    "\n",
    "print(pd.DataFrame(X).head(2).to_string(index=False))"
   ]
  },
  {
   "cell_type": "markdown",
   "metadata": {},
   "source": [
    "#### ENCODING THE CATEGORICAL COLUMNS"
   ]
  },
  {
   "cell_type": "code",
   "execution_count": 160,
   "metadata": {},
   "outputs": [
    {
     "name": "stdout",
     "output_type": "stream",
     "text": [
      "0  1  2  3    4  5  6  7  8  9  10 11 12 13 14 15 16 17 18 19 20 21\n",
      "36  1 13  2 8029  0  0  0  1  1 83  3  1  1  1  0 22  0  0  0  3  2\n",
      "35  1  7  0 4563  2  0  0  1  1 55  0  2  4  0  1 27  0  0  0  2  0\n"
     ]
    }
   ],
   "source": [
    "gender_Encoder=LabelEncoder()\n",
    "jobrole_Encoder=LabelEncoder()\n",
    "worklife_Encoder=LabelEncoder()\n",
    "jobsatisfaction_Encoder=LabelEncoder()\n",
    "rating_Encoder=LabelEncoder()\n",
    "overtime_Encoder=LabelEncoder()\n",
    "education_Encoder=LabelEncoder()\n",
    "maritalstatus_Encoder=LabelEncoder()\n",
    "joblevel_Encoder=LabelEncoder()\n",
    "companysize_Encoder=LabelEncoder()\n",
    "remotework_Encoder=LabelEncoder()\n",
    "leadership_Encoder=LabelEncoder()\n",
    "Innovation_opportunities_Encoder=LabelEncoder()\n",
    "Company_reputation_Encoder=LabelEncoder()\n",
    "Employee_recognition_Encoder=LabelEncoder()\n",
    "\n",
    "X[:,1]=gender_Encoder.fit_transform(X[:,1])\n",
    "X[:,3]=jobrole_Encoder.fit_transform(X[:,3])\n",
    "X[:,5]=worklife_Encoder.fit_transform(X[:,5])\n",
    "X[:,6]=jobsatisfaction_Encoder.fit_transform(X[:,6])\n",
    "X[:,7]=rating_Encoder.fit_transform(X[:,7])\n",
    "X[:,9]=overtime_Encoder.fit_transform(X[:,9])\n",
    "X[:,11]=education_Encoder.fit_transform(X[:,11])\n",
    "X[:,12]=maritalstatus_Encoder.fit_transform(X[:,12])\n",
    "X[:,14]=joblevel_Encoder.fit_transform(X[:,14])\n",
    "X[:,15]=companysize_Encoder.fit_transform(X[:,15])\n",
    "X[:,17]=remotework_Encoder.fit_transform(X[:,17])\n",
    "X[:,18]=leadership_Encoder.fit_transform(X[:,18])\n",
    "X[:,19]=Innovation_opportunities_Encoder.fit_transform(X[:,19])\n",
    "X[:,20]=Company_reputation_Encoder.fit_transform(X[:,20])\n",
    "X[:,21]=Employee_recognition_Encoder.fit_transform(X[:,21])\n",
    "\n",
    "print(pd.DataFrame(X).head(2).to_string(index=False))"
   ]
  },
  {
   "cell_type": "code",
   "execution_count": 161,
   "metadata": {},
   "outputs": [
    {
     "data": {
      "text/plain": [
       "(14819,)"
      ]
     },
     "execution_count": 161,
     "metadata": {},
     "output_type": "execute_result"
    }
   ],
   "source": [
    "y.shape"
   ]
  },
  {
   "cell_type": "code",
   "execution_count": 162,
   "metadata": {},
   "outputs": [],
   "source": [
    "Employee_attrition_Encoder=LabelEncoder()\n",
    "y=Employee_attrition_Encoder.fit_transform(y)"
   ]
  },
  {
   "cell_type": "markdown",
   "metadata": {},
   "source": [
    "#### COLUMN TRANSFORMING THE ENCODED COLUMNS"
   ]
  },
  {
   "cell_type": "code",
   "execution_count": 163,
   "metadata": {},
   "outputs": [
    {
     "name": "stdout",
     "output_type": "stream",
     "text": [
      "  0    1    2    3    4    5    6    7    8    9    10   11   12   13   14   15   16   17   18   19   20   21   22   23   24   25   26   27   28 29 30 31   32 33 34 35 36 37 38 39 40\n",
      " 0.0  1.0  0.0  0.0  0.0  0.0  0.0  0.0  0.0  0.0  0.0  0.0  0.0  0.0  0.0  1.0  0.0  1.0  0.0  1.0  0.0  0.0  0.0  0.0  0.0  1.0  0.0  1.0  0.0 36  1 13 8029  1  1 83  1 22  0  0  0\n",
      " 0.0  0.0  0.0  0.0  0.0  1.0  0.0  0.0  0.0  0.0  0.0  0.0  0.0  0.0  0.0  0.0  0.0  0.0  1.0  0.0  0.0  1.0  0.0  0.0  1.0  0.0  0.0  0.0  0.0 35  1  7 4563  1  1 55  4 27  0  0  0\n"
     ]
    }
   ],
   "source": [
    "ct=ColumnTransformer(\n",
    "    transformers=[\n",
    "        ('onehot', OneHotEncoder(drop='first'), [3, 5, 6, 7, 11, 12, 14, 15, 20, 21])\n",
    "    ],\n",
    "    remainder= 'passthrough'\n",
    ")\n",
    "\n",
    "X=ct.fit_transform(X)\n",
    "print(pd.DataFrame(X).head(2).to_string(index=False))"
   ]
  },
  {
   "cell_type": "markdown",
   "metadata": {},
   "source": [
    "#### SPLITTING THE TRAINING AND TEST DATA"
   ]
  },
  {
   "cell_type": "code",
   "execution_count": 164,
   "metadata": {},
   "outputs": [],
   "source": [
    "X_test,X_train,y_test,y_train=train_test_split(\n",
    "    X,y,test_size=0.25,random_state=2\n",
    ")"
   ]
  },
  {
   "cell_type": "markdown",
   "metadata": {},
   "source": [
    "#### SCALING THE VALUES OF X FOR THE ALGORITHMS THAT REQUIRED SCALED X VALUES"
   ]
  },
  {
   "cell_type": "code",
   "execution_count": 165,
   "metadata": {},
   "outputs": [],
   "source": [
    "ss_x = StandardScaler()\n",
    "scaled_x_train = ss_x.fit_transform(X_train)\n",
    "scaled_x_test = ss_x.transform(X_test)"
   ]
  },
  {
   "cell_type": "markdown",
   "metadata": {},
   "source": [
    "#### Now we take each of the algorithms, and we do hyperparameter tuning to get the best parameters for the given dataset. We are using Grid Search for this purpose."
   ]
  },
  {
   "cell_type": "markdown",
   "metadata": {},
   "source": [
    "### 1. DECISION TREE CLASSIFIER"
   ]
  },
  {
   "cell_type": "code",
   "execution_count": 166,
   "metadata": {},
   "outputs": [],
   "source": [
    "dtc=DecisionTreeClassifier()\n",
    "param_dtc = {\n",
    "    'criterion': ['gini', 'entropy'],  \n",
    "    'max_depth': [None, 10, 20, 30],  \n",
    "    'min_samples_split': [2, 5, 10],  \n",
    "    'min_samples_leaf': [1, 2, 4],  \n",
    "    'max_features': [None, 'sqrt', 'log2'],  \n",
    "    'splitter': ['best', 'random'],  \n",
    "}\n",
    "\n",
    "gridCLF=GridSearchCV(dtc, param_dtc, scoring='accuracy', cv=5, n_jobs=-1)\n",
    "# gridCLF.fit(X_train, y_train)\n",
    "# print(gridCLF.best_params_)\n",
    "\n",
    "\n",
    "# Hyperparameters after tuning:\n",
    "# {'criterion': 'gini', 'max_depth': 10, 'max_features': None, 'min_samples_leaf': 4, 'min_samples_split': 2, 'splitter': 'random'}"
   ]
  },
  {
   "cell_type": "markdown",
   "metadata": {},
   "source": [
    "### 2. RANDOM FOREST CLASSIFIER"
   ]
  },
  {
   "cell_type": "code",
   "execution_count": 167,
   "metadata": {},
   "outputs": [],
   "source": [
    "rfc = RandomForestClassifier()\n",
    "param_rfc = {\n",
    "    'n_estimators': [100],  # Reduce number of estimators\n",
    "    'max_depth': [None, 10],  # Limit depth to None and 10\n",
    "    'min_samples_split': [2],  # Simplify the minimum samples for splitting\n",
    "    'min_samples_leaf': [1],   # Simplify leaf minimum samples\n",
    "    'max_features': ['sqrt'],  # Use 'sqrt' for max features (common choice)\n",
    "    'bootstrap': [True],       # Use bootstrap = True\n",
    "    'criterion': ['gini'],    # Use 'gini' as the criterion\n",
    "}\n",
    "\n",
    "gridCLF = GridSearchCV(rfc, param_rfc, scoring='accuracy', cv=5, n_jobs=-1)\n",
    "# gridCLF.fit(X_train, y_train)\n",
    "# print(gridCLF.best_params_)\n",
    "\n",
    "\n",
    "\n",
    "# Hyperparameters after tuning:\n",
    "# {'bootstrap': True, 'criterion': 'gini', 'max_depth': None, 'max_features': 'sqrt', 'min_samples_leaf': 1, 'min_samples_split': 2, 'n_estimators': 100}"
   ]
  },
  {
   "cell_type": "markdown",
   "metadata": {},
   "source": [
    "### 3. KNN CLASSIFIER"
   ]
  },
  {
   "cell_type": "code",
   "execution_count": 168,
   "metadata": {},
   "outputs": [],
   "source": [
    "knn = KNeighborsClassifier()\n",
    "\n",
    "\n",
    "param_knn = {\n",
    "    'n_neighbors': [3, 5, 7, 10, 15],  \n",
    "    'weights': ['uniform', 'distance'], \n",
    "    'metric': ['euclidean', 'manhattan', 'minkowski'],  \n",
    "    'algorithm': ['auto', 'ball_tree', 'kd_tree', 'brute'],  \n",
    "    'leaf_size': [10, 20, 30, 40] \n",
    "}\n",
    "\n",
    "\n",
    "gridCLF = GridSearchCV(knn, param_knn, scoring='accuracy', cv=5, n_jobs=-1)\n",
    "# gridCLF.fit(scaled_x_train, y_train)\n",
    "# print( gridCLF.best_params_)\n",
    "#  {'algorithm': 'auto', 'leaf_size': 10, 'metric': 'euclidean', 'n_neighbors': 15, 'weights': 'uniform'}"
   ]
  },
  {
   "cell_type": "markdown",
   "metadata": {},
   "source": [
    "### 4. SVM CLASSIFIER"
   ]
  },
  {
   "cell_type": "code",
   "execution_count": 169,
   "metadata": {},
   "outputs": [],
   "source": [
    "svc = SVC()\n",
    "param_svc = {\n",
    "    'C': [1, 10],  # Narrow the range of C\n",
    "    'kernel': ['rbf', 'linear'],  # Only test 'rbf' and 'linear' kernels\n",
    "    'degree': [3],  # Keep degree only for 'poly' kernel\n",
    "    'gamma': ['scale'],  # Use 'scale' for gamma (default and generally works well)\n",
    "    'class_weight': [None],  # If no class imbalance, use None\n",
    "}\n",
    "\n",
    "gridCLF = GridSearchCV(svc, param_svc, scoring='accuracy', cv=5, n_jobs=-1)\n",
    "# gridCLF.fit(scaled_x_train, y_train)\n",
    "\n",
    "# print(gridCLF.best_params_)\n",
    "\n",
    "#  {'C': 10, 'class_weight': None, 'degree': 3, 'gamma': 'scale', 'kernel': 'linear'}"
   ]
  },
  {
   "cell_type": "markdown",
   "metadata": {},
   "source": [
    "### 5. GAUSSIAN NAIVE-BAYESIAN CLASSIFIER"
   ]
  },
  {
   "cell_type": "code",
   "execution_count": 170,
   "metadata": {},
   "outputs": [],
   "source": [
    "gnb = GaussianNB()\n",
    "\n",
    "\n",
    "param_gnb = {\n",
    "    'var_smoothing': [1e-9, 1e-8, 1e-7, 1e-6, 1e-5] \n",
    "}\n",
    "\n",
    "\n",
    "gridCLF = GridSearchCV(gnb, param_gnb, scoring='accuracy', cv=5, n_jobs=-1)\n",
    "# gridCLF.fit(scaled_x_train, y_train)\n",
    "\n",
    "# print( gridCLF.best_params_)\n",
    "#  {'var_smoothing': 1e-09}"
   ]
  },
  {
   "cell_type": "markdown",
   "metadata": {},
   "source": [
    "### 6. XGBOOST CLASSIFIER"
   ]
  },
  {
   "cell_type": "code",
   "execution_count": 171,
   "metadata": {},
   "outputs": [],
   "source": [
    "from xgboost import XGBClassifier\n",
    "from sklearn.model_selection import GridSearchCV\n",
    "\n",
    "# Initialize the XGBoost classifier\n",
    "xgb = XGBClassifier()\n",
    "\n",
    "# Define the reduced hyperparameter grid\n",
    "param_xgb = {\n",
    "    'n_estimators': [100],  # Reduce to just 100 estimators\n",
    "    'learning_rate': [0.1],  # Use a typical learning rate\n",
    "    'max_depth': [3, 6],  # Limit max depth\n",
    "    'min_child_weight': [1],  # Simplify to just one value\n",
    "    'subsample': [0.8],  # Use a typical value for subsample\n",
    "    'colsample_bytree': [0.8],  # Use a typical value for colsample_bytree\n",
    "    'gamma': [0, 0.1],  # Reduce gamma values\n",
    "    'objective': ['binary:logistic'],  # Objective function\n",
    "    'eval_metric': ['logloss'],  # Evaluation metric\n",
    "}\n",
    "\n",
    "# Set up GridSearchCV\n",
    "gridCLF = GridSearchCV(xgb, param_xgb, scoring='accuracy', cv=5, n_jobs=-1)\n",
    "\n",
    "# gridCLF.fit(X_train, y_train)\n",
    "# print(gridCLF.best_params_)\n",
    "\n",
    "# {'colsample_bytree': 0.8, 'eval_metric': 'logloss', 'gamma': 0, 'learning_rate': 0.1, 'max_depth': 3, 'min_child_weight': 1, 'n_estimators': 100, 'objective': 'binary:logistic', 'subsample': 0.8}"
   ]
  },
  {
   "cell_type": "markdown",
   "metadata": {},
   "source": [
    "Now we create a function to return the accuracy measures and error metrics after training the algorithm. We also create a dictionary for referencing each algorithms."
   ]
  },
  {
   "cell_type": "code",
   "execution_count": 172,
   "metadata": {},
   "outputs": [],
   "source": [
    "def model_evaluation(model, x_train, x_test, y_train, y_test):\n",
    "    model.fit(x_train, y_train)\n",
    "    y_pred = model.predict(x_test)\n",
    "    \n",
    "    accuuracy = metrics.accuracy_score(y_test, y_pred)\n",
    "    mae = metrics.mean_absolute_error(y_test, y_pred)\n",
    "    rmse = np.sqrt(metrics.mean_squared_error(y_test, y_pred))\n",
    "    \n",
    "    return accuuracy, mae, rmse\n",
    "# {'colsample_bytree': 0.8, 'eval_metric': 'logloss', 'gamma': 0, 'learning_rate': 0.1, 'max_depth': 3, 'min_child_weight': 1, 'n_estimators': 100, 'objective': 'binary:logistic', 'subsample': 0.8}\n",
    "models = {\n",
    "    \"Decision Tree Classifier\": DecisionTreeClassifier(criterion= 'gini', max_depth= 10, max_features= None, min_samples_leaf= 4, min_samples_split= 2, splitter= 'random'),\n",
    "    \"Random Forest Classifier\": RandomForestClassifier(bootstrap= True, criterion= 'gini', max_depth= None, max_features= 'sqrt', min_samples_leaf= 1, min_samples_split= 2, n_estimators= 100),\n",
    "    \"KNN Classifier\": KNeighborsClassifier(algorithm= 'auto', leaf_size= 10, metric= 'euclidean', n_neighbors= 15, weights= 'uniform'),\n",
    "    \"SVC Classifier\": SVC(C= 10, class_weight= None, degree= 3, gamma= 'scale', kernel= 'linear'),\n",
    "    \"Gaussian Naive-Bayesian Classifier\": GaussianNB(var_smoothing= 1e-09),\n",
    "    \"XGBoost Classifier\": XGBClassifier(colsample_bytree= 0.8, eval_metric= 'logloss', gamma= 0, learning_rate= 0.1, max_depth= 3, min_child_weight= 1, n_estimators= 100, objective= 'binary:logistic', subsample= 0.8\n",
    ")\n",
    "}   \n"
   ]
  },
  {
   "cell_type": "markdown",
   "metadata": {},
   "source": [
    "Now we call the above created function, and change up the x data according to the algorithm used. Also the results of the evaluation is stored into the results_df."
   ]
  },
  {
   "cell_type": "code",
   "execution_count": 173,
   "metadata": {},
   "outputs": [
    {
     "name": "stdout",
     "output_type": "stream",
     "text": [
      "                             Model  Accuracy Score  Mean Absolute Error  Root Mean Squared Error\n",
      "          Decision Tree Classifier        0.685892             0.314108                 0.560454\n",
      "          Random Forest Classifier        0.732949             0.267051                 0.516769\n",
      "                    KNN Classifier        0.684182             0.315818                 0.561977\n",
      "                    SVC Classifier        0.752114             0.247886                 0.497881\n",
      "Gaussian Naive-Bayesian Classifier        0.723052             0.276948                 0.526258\n",
      "                XGBoost Classifier        0.751395             0.248605                 0.498603\n"
     ]
    }
   ],
   "source": [
    "results = []\n",
    "\n",
    "\n",
    "for model_name, model in models.items():\n",
    "    if model_name == \"KNN Classifier\" or model_name == \"SVC Classifier\":\n",
    "        accuracy, mae, rmse = model_evaluation(model, scaled_x_train, scaled_x_test, y_train, y_test)\n",
    "    else:\n",
    "        accuracy, mae, rmse = model_evaluation(model, X_train, X_test, y_train, y_test)\n",
    "    \n",
    "    results.append({\n",
    "        \"Model\": model_name,\n",
    "        \"Accuracy Score\": accuracy,\n",
    "        \"Mean Absolute Error\": mae,\n",
    "        \"Root Mean Squared Error\": rmse\n",
    "    })\n",
    "\n",
    "\n",
    "results_df = pd.DataFrame(results)\n",
    "print(results_df.to_string(index=False))"
   ]
  },
  {
   "cell_type": "markdown",
   "metadata": {},
   "source": [
    "Visualizing the results (Accuracy Score, Root Mean Squared Error and Mean Absolute Error)"
   ]
  },
  {
   "cell_type": "code",
   "execution_count": 174,
   "metadata": {},
   "outputs": [
    {
     "data": {
      "image/png": "[encoded data removed]",
      "text/plain": [
       "<Figure size 1000x600 with 1 Axes>"
      ]
     },
     "metadata": {},
     "output_type": "display_data"
    },
    {
     "data": {
      "image/png": "[encoded data removed]",
      "text/plain": [
       "<Figure size 1200x800 with 1 Axes>"
      ]
     },
     "metadata": {},
     "output_type": "display_data"
    }
   ],
   "source": [
    "model_names = results_df['Model'] \n",
    "accuracy_values = results_df['Accuracy Score']\n",
    "mae_values = results_df['Mean Absolute Error']\n",
    "rmse_values = results_df['Root Mean Squared Error']\n",
    "\n",
    "x = np.arange(len(model_names))  \n",
    "width = 0.35  \n",
    "\n",
    "fig, ax1 = plt.subplots(figsize=(10, 6))\n",
    "bar_accuracy = ax1.bar(x, accuracy_values, width, color=plt.cm.Paired.colors[:len(model_names)], label='Accuracy Score')\n",
    "\n",
    "ax1.set_title('Model Performance - Accuracy Score')\n",
    "ax1.set_xlabel('Models')\n",
    "ax1.set_ylabel('Accuracy Score', color='blue')\n",
    "ax1.set_xticks(x)\n",
    "ax1.set_xticklabels(model_names, rotation=45, ha='right')\n",
    "ax1.tick_params(axis='y', labelcolor='blue')\n",
    "\n",
    "for bar in bar_accuracy:\n",
    "    height = bar.get_height()\n",
    "    ax1.annotate(f'{height:.2f}',\n",
    "                 xy=(bar.get_x() + bar.get_width() / 2, height),\n",
    "                 xytext=(0, 3),\n",
    "                 textcoords=\"offset points\",\n",
    "                 ha='center', va='bottom')\n",
    "\n",
    "plt.tight_layout()\n",
    "\n",
    "fig, ax2 = plt.subplots(figsize=(12, 8))\n",
    "bar_mae = ax2.bar(x - width / 2, mae_values, width, label='Mean Absolute Error', color='mediumpurple')\n",
    "bar_rmse = ax2.bar(x + width / 2, rmse_values, width, label='Root Mean Squared Error', color='teal')\n",
    "\n",
    "ax2.set_ylabel('Error Metrics (MAE, RMSE)', color='red')\n",
    "ax2.tick_params(axis='y', labelcolor='red')\n",
    "ax2.set_xticks(x)\n",
    "ax2.set_xticklabels(model_names, rotation=45, ha='right')\n",
    "ax2.set_title('Model Performance - Error Metrics')\n",
    "\n",
    "for bars in [bar_mae, bar_rmse]:\n",
    "    for bar in bars:\n",
    "        height = bar.get_height()\n",
    "        ax2.annotate(f'{height:.2f}',\n",
    "                     xy=(bar.get_x() + bar.get_width() / 2, height),\n",
    "                     xytext=(0, 3),\n",
    "                     textcoords=\"offset points\",\n",
    "                     ha='center', va='bottom')\n",
    "\n",
    "ax2.legend()\n",
    "\n",
    "plt.tight_layout()\n",
    "plt.show()"
   ]
  },
  {
   "cell_type": "markdown",
   "metadata": {},
   "source": [
    "From the above results, we can observe that SVC Classifier and XGBoost Classifier has the best accuracy score of 75%. But SVC has the lower error metrics. Hence we choose SVC for the building the classifier model."
   ]
  },
  {
   "cell_type": "markdown",
   "metadata": {},
   "source": [
    "### Creating a custom input and classifying the output"
   ]
  },
  {
   "cell_type": "code",
   "execution_count": 175,
   "metadata": {},
   "outputs": [],
   "source": [
    "Age=45\t\n",
    "Gender='Female'\n",
    "Years_at_company=23\t\n",
    "Job_role='Media'\n",
    "Monthly_income=8118\t\n",
    "Work_life_balance='Fair'\t\n",
    "Job_satisfaction='Very High'\t\n",
    "Performance_rating='Below Average'\t\n",
    "Number_of_promotions=3\t\n",
    "Overtime='No'\n",
    "Distance_from_home=79\t\n",
    "Education_level='Associate Degree'\n",
    "Marital_status='Married'\n",
    "Number_of_dependents=2\t\n",
    "Job_level='Mid'\n",
    "Company_size='Small'\n",
    "Company_tenure=47\n",
    "Remote_work='Yes'\n",
    "Leadership_opportunities='No'\n",
    "Innovation_opportunities='No'\n",
    "Company_reputation='Excellent'\n",
    "Employee_recognition='High'\n",
    "\n"
   ]
  },
  {
   "cell_type": "markdown",
   "metadata": {},
   "source": [
    "### Converting custom input into numeric format."
   ]
  },
  {
   "cell_type": "code",
   "execution_count": 176,
   "metadata": {},
   "outputs": [],
   "source": [
    "x_custom=np.array([[Age, Gender, Years_at_company, Job_role, Monthly_income, Work_life_balance, Job_satisfaction, Performance_rating, Number_of_promotions, Overtime, Distance_from_home, Education_level, Marital_status, Number_of_dependents,\tJob_level, Company_size, Company_tenure, Remote_work, Leadership_opportunities,\tInnovation_opportunities, Company_reputation, Employee_recognition]], dtype=object)\n",
    "\n",
    "x_custom[:,1]=gender_Encoder.transform(x_custom[:,1])\n",
    "x_custom[:,3]=jobrole_Encoder.transform(x_custom[:,3])\n",
    "x_custom[:,5]=worklife_Encoder.transform(x_custom[:,5])\n",
    "x_custom[:,6]=jobsatisfaction_Encoder.transform(x_custom[:,6])\n",
    "x_custom[:,7]=rating_Encoder.transform(x_custom[:,7])\n",
    "x_custom[:,9]=overtime_Encoder.transform(x_custom[:,9])\n",
    "x_custom[:,11]=education_Encoder.transform(x_custom[:,11])\n",
    "x_custom[:,12]=maritalstatus_Encoder.transform(x_custom[:,12])\n",
    "x_custom[:,14]=joblevel_Encoder.transform(x_custom[:,14])\n",
    "x_custom[:,15]=companysize_Encoder.transform(x_custom[:,15])\n",
    "x_custom[:,17]=remotework_Encoder.transform(x_custom[:,17])\n",
    "x_custom[:,18]=leadership_Encoder.transform(x_custom[:,18])\n",
    "x_custom[:,19]=Innovation_opportunities_Encoder.transform(x_custom[:,19])\n",
    "x_custom[:,20]=Company_reputation_Encoder.transform(x_custom[:,20])\n",
    "x_custom[:,21]=Employee_recognition_Encoder.transform(x_custom[:,21])"
   ]
  },
  {
   "cell_type": "markdown",
   "metadata": {},
   "source": [
    "### Applying column transform"
   ]
  },
  {
   "cell_type": "code",
   "execution_count": 177,
   "metadata": {},
   "outputs": [],
   "source": [
    "x_custom=ct.transform(x_custom)"
   ]
  },
  {
   "cell_type": "markdown",
   "metadata": {},
   "source": [
    "### Predicting the output"
   ]
  },
  {
   "cell_type": "code",
   "execution_count": 178,
   "metadata": {},
   "outputs": [
    {
     "name": "stdout",
     "output_type": "stream",
     "text": [
      "Custom input prediction: 1\n"
     ]
    }
   ],
   "source": [
    "y_custom=models['SVC Classifier'].predict(x_custom)\n",
    "print(\"Custom input prediction:\",y_custom[0])"
   ]
  },
  {
   "cell_type": "markdown",
   "metadata": {},
   "source": [
    "## CONCLUSION"
   ]
  },
  {
   "cell_type": "markdown",
   "metadata": {},
   "source": [
    "#### In this project, we successfully built a machine learning model to predict employee attrition based on various demographic, job-related, and company-specific features. Through careful data preprocessing, exploratory data analysis, and model training, we were able to assess the effectiveness of different classification models, including Decision Tree, Random Forest, K-Nearest Neighbors, Support Vector Classifier, Gaussian Naive-Bayes, and XGBoost.\n",
    "\n",
    "### Key Insights:\n",
    "- **Data Preprocessing**: Handling missing values, encoding categorical features, and scaling numerical data was essential to ensure model performance.\n",
    "- **Feature Engineering**: We identified and utilized relevant features like job satisfaction, years at company, overtime status, and leadership opportunities, which contributed significantly to the model's ability to predict attrition.\n",
    "- **Model Performance**: After hyperparameter tuning, the models showed varying levels of performance, with certain algorithms such as XGBoost and Random Forest outperforming others in terms of accuracy, mean absolute error (MAE), and root mean squared error (RMSE).\n",
    "- **Model Selection**: The Support Vector Classifier (SVC) with the optimal hyperparameters achieved the best accuracy in predicting employee attrition, making it the most reliable model for this task.\n",
    "\n",
    "### Business Implication:\n",
    "The results of this project can help organizations identify employees who are at high risk of leaving. By targeting these employees with retention strategies—such as career development, better work-life balance, or leadership opportunities—companies can reduce attrition rates, improve employee satisfaction, and lower recruitment and training costs.\n",
    "\n",
    "### Future Work:\n",
    "- **Further Hyperparameter Tuning**: Although the current hyperparameter tuning achieved solid results, there is room for further exploration to enhance model performance.\n",
    "- **Additional Data**: Incorporating additional employee and organizational features, such as salary growth, internal promotions, or team dynamics, could improve model accuracy.\n",
    "- **Real-Time Prediction**: Implementing the model into a real-time system would allow HR departments to get instant feedback on new hires and take proactive measures.\n",
    "\n",
    "This project demonstrates how predictive analytics can help solve a pressing issue in human resource management, and the techniques developed can be applied to other classification tasks in various industries.\n"
   ]
  }
 ],
 "metadata": {
  "kernelspec": {
   "display_name": "base",
   "language": "python",
   "name": "python3"
  },
  "language_info": {
   "codemirror_mode": {
    "name": "ipython",
    "version": 3
   },
   "file_extension": ".py",
   "mimetype": "text/x-python",
   "name": "python",
   "nbconvert_exporter": "python",
   "pygments_lexer": "ipython3",
   "version": "3.10.9"
  }
 },
 "nbformat": 4,
 "nbformat_minor": 2
}
